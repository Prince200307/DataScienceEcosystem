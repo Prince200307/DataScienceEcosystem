{
 "cells": [
  {
   "cell_type": "markdown",
   "id": "581fe4fb-7b4b-44e3-8556-85edf42dfb97",
   "metadata": {},
   "source": [
    "# Data Science Tools and Ecosystem"
   ]
  },
  {
   "cell_type": "markdown",
   "id": "fda542ed-3352-4b06-9d35-1faf66c0d178",
   "metadata": {},
   "source": [
    "In this notebook, Data SCience Tools and Ecosystem are summarised."
   ]
  },
  {
   "cell_type": "markdown",
   "id": "03059e13-cf57-4e1a-8382-dcaa8d49bfec",
   "metadata": {},
   "source": [
    "Objectives:\n",
    "- List popular languages for Data Science\n",
    "- Some of the commonly used libraries used by Data Scientists\n",
    "- List of Data Science Tools"
   ]
  },
  {
   "cell_type": "markdown",
   "id": "c1cf0a81-2d18-4036-a04b-556663101da4",
   "metadata": {},
   "source": [
    "Some of the popular languages that Data Scientists use are:\n",
    "1. Python\n",
    "2. R\n",
    "3. Javascript"
   ]
  },
  {
   "cell_type": "markdown",
   "id": "ac7889eb-0b6b-4c23-bb5d-4a6dde39841e",
   "metadata": {},
   "source": [
    "Some of the commonly used libraries used by Data Scientists include:\n",
    "1. matplotlib\n",
    "2. pandas\n",
    "3. seaborn"
   ]
  },
  {
   "cell_type": "markdown",
   "id": "94b18415-05a6-4554-8f95-3fc2d5b4b048",
   "metadata": {},
   "source": [
    "| Data Science Tools |\n",
    "| -------------------- |\n",
    "| Jupyter notebook |\n",
    "| R studio |\n",
    "| Watson studio |\n"
   ]
  },
  {
   "cell_type": "markdown",
   "id": "a513b87a-2e78-4a9b-857b-13402b34d1cc",
   "metadata": {},
   "source": [
    "### Below are a few examples of evaluating arithmetic expressions in Python"
   ]
  },
  {
   "cell_type": "markdown",
   "id": "a34b73c1-83fb-4b6e-a7b2-284fcde4ccc0",
   "metadata": {},
   "source": [
    "This a simple arithmetic expression to mutiply then add integers."
   ]
  },
  {
   "cell_type": "code",
   "execution_count": 1,
   "id": "5116d5d6-2f53-4703-b128-4085efd0f4b0",
   "metadata": {},
   "outputs": [
    {
     "data": {
      "text/plain": [
       "17"
      ]
     },
     "execution_count": 1,
     "metadata": {},
     "output_type": "execute_result"
    }
   ],
   "source": [
    "(3*4)+5"
   ]
  },
  {
   "cell_type": "markdown",
   "id": "31e43bcd-f385-46ff-869f-f7510c078a7b",
   "metadata": {},
   "source": [
    "This will convert 200 minutes to hours by dividing by 60"
   ]
  },
  {
   "cell_type": "code",
   "execution_count": 3,
   "id": "f5a45b4e-f73e-46f8-ac9d-1ce91fd5c20e",
   "metadata": {},
   "outputs": [
    {
     "name": "stdout",
     "output_type": "stream",
     "text": [
      "3.3333333333333335\n"
     ]
    }
   ],
   "source": [
    "hours= 200/60\n",
    "print(hours)"
   ]
  },
  {
   "cell_type": "markdown",
   "id": "4391db08-074a-4507-a059-7254702a7846",
   "metadata": {},
   "source": [
    "## Author\n",
    "Prince Kumar"
   ]
  }
 ],
 "metadata": {
  "kernelspec": {
   "display_name": "Python 3 (ipykernel)",
   "language": "python",
   "name": "python3"
  },
  "language_info": {
   "codemirror_mode": {
    "name": "ipython",
    "version": 3
   },
   "file_extension": ".py",
   "mimetype": "text/x-python",
   "name": "python",
   "nbconvert_exporter": "python",
   "pygments_lexer": "ipython3",
   "version": "3.12.3"
  }
 },
 "nbformat": 4,
 "nbformat_minor": 5
}
